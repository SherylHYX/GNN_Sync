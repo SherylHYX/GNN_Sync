{
 "cells": [
  {
   "cell_type": "code",
   "execution_count": 1,
   "metadata": {},
   "outputs": [],
   "source": [
    "import math\n",
    "from math import atan2\n",
    "\n",
    "import numpy as np\n",
    "from scipy.linalg import norm\n",
    "from scipy.spatial.distance import cdist\n",
    "import matplotlib.pyplot as plt\n",
    "\n",
    "plt.rc('text', usetex=True)\n",
    "plt.rc('font', family='serif')"
   ]
  },
  {
   "cell_type": "code",
   "execution_count": 2,
   "metadata": {},
   "outputs": [],
   "source": [
    "data = np.load('../real_data/uscities.npy')"
   ]
  },
  {
   "cell_type": "code",
   "execution_count": 3,
   "metadata": {},
   "outputs": [
    {
     "data": {
      "text/plain": [
       "1097"
      ]
     },
     "execution_count": 3,
     "metadata": {},
     "output_type": "execute_result"
    }
   ],
   "source": [
    "num_nodes = data.shape[0]\n",
    "num_nodes"
   ]
  },
  {
   "cell_type": "code",
   "execution_count": 4,
   "metadata": {},
   "outputs": [
    {
     "data": {
      "text/plain": [
       "(1097, 1097)"
      ]
     },
     "execution_count": 4,
     "metadata": {},
     "output_type": "execute_result"
    }
   ],
   "source": [
    "dist_mat = cdist(data, data)\n",
    "dist_mat.shape"
   ]
  },
  {
   "cell_type": "code",
   "execution_count": 5,
   "metadata": {},
   "outputs": [
    {
     "data": {
      "text/plain": [
       "(1097, 50)"
      ]
     },
     "execution_count": 5,
     "metadata": {},
     "output_type": "execute_result"
    }
   ],
   "source": [
    "k_num = 50\n",
    "eta = 0.05\n",
    "added_noise_x = np.random.normal(0, eta*data[:, 0].std(), (num_nodes, k_num))\n",
    "added_noise_y = np.random.normal(0, eta*data[:, 1].std(), (num_nodes, k_num))\n",
    "patch_indices = np.argpartition(dist_mat, k_num)[:, :k_num] # k_num=50 nearest neighbors\n",
    "patch_indices.shape"
   ]
  },
  {
   "cell_type": "code",
   "execution_count": 5,
   "metadata": {},
   "outputs": [],
   "source": [
    "def rotate(origin, point, angle):\n",
    "    \"\"\"\n",
    "    Rotate a point counterclockwise by a given angle around a given origin.\n",
    "\n",
    "    The angle should be given in radians.\n",
    "    \"\"\"\n",
    "    ox, oy = origin\n",
    "    px, py = point\n",
    "\n",
    "    qx = ox + math.cos(angle) * (px - ox) - math.sin(angle) * (py - oy)\n",
    "    qy = oy + math.sin(angle) * (px - ox) + math.cos(angle) * (py - oy)\n",
    "    return qx, qy"
   ]
  },
  {
   "cell_type": "code",
   "execution_count": 6,
   "metadata": {},
   "outputs": [],
   "source": [
    "def get_rotation_matrix(theta):\n",
    "    \n",
    "    return np.array([[math.cos(theta), -math.sin(theta)], [math.sin(theta), math.cos(theta)]])"
   ]
  },
  {
   "cell_type": "code",
   "execution_count": 8,
   "metadata": {},
   "outputs": [],
   "source": [
    "# generate ground-truth rotations for patches using a Gamma distribution\n",
    "angles_gt = 2 * np.pi * np.random.gamma(shape=0.5, scale=1, size=(num_nodes,)) % (2*np.pi)"
   ]
  },
  {
   "cell_type": "code",
   "execution_count": 7,
   "metadata": {},
   "outputs": [],
   "source": [
    "def get_rotation(X, Y):\n",
    "    \"\"\"\n",
    "    A part of a port of MATLAB's `procrustes` function to Numpy.\n",
    "\n",
    "    Procrustes analysis determines a linear transformation (translation,\n",
    "    reflection, orthogonal rotation and scaling) of the points in Y to best\n",
    "    conform them to the points in matrix X, using the sum of squared errors\n",
    "    as the goodness of fit criterion.\n",
    "\n",
    "        angle = get_rotation(X, Y)\n",
    "\n",
    "    Inputs:\n",
    "    ------------\n",
    "    X, Y    \n",
    "        matrices of target and input coordinates. they must have equal\n",
    "        numbers of  points (rows), but Y may have fewer dimensions\n",
    "        (columns) than X.\n",
    "\n",
    "    Outputs\n",
    "    ------------\n",
    "    angle \n",
    "        an angle of rotation that\n",
    "        maps X --> Y\n",
    "\n",
    "    \"\"\"\n",
    "\n",
    "    n,m = X.shape\n",
    "    ny,my = Y.shape\n",
    "\n",
    "    muX = X.mean(0)\n",
    "    muY = Y.mean(0)\n",
    "\n",
    "    X0 = X - muX\n",
    "    Y0 = Y - muY\n",
    "\n",
    "    ssX = (X0**2.).sum()\n",
    "    ssY = (Y0**2.).sum()\n",
    "\n",
    "    # centred Frobenius norm\n",
    "    normX = np.sqrt(ssX)\n",
    "    normY = np.sqrt(ssY)\n",
    "\n",
    "    # scale to equal (unit) norm\n",
    "    X0 /= normX\n",
    "    Y0 /= normY\n",
    "\n",
    "    if my < m:\n",
    "        Y0 = np.concatenate((Y0, np.zeros(n, m-my)),0)\n",
    "\n",
    "    # optimum rotation matrix of Y\n",
    "    A = np.dot(X0.T, Y0)\n",
    "    U,s,Vt = np.linalg.svd(A,full_matrices=False)\n",
    "    V = Vt.T\n",
    "    T = np.dot(V, U.T)\n",
    "\n",
    "    # transformation matrix\n",
    "    if my < m:\n",
    "        T = T[:my,:]\n",
    "    angle = atan2(T[1, 0], T[1, 1])\n",
    "   \n",
    "    return angle % (2*np.pi)"
   ]
  },
  {
   "cell_type": "code",
   "execution_count": 10,
   "metadata": {},
   "outputs": [
    {
     "name": "stdout",
     "output_type": "stream",
     "text": [
      "Number of edges: 61265, density: 0.10191198291292111\n"
     ]
    }
   ],
   "source": [
    "num_threshold = 6\n",
    "adj_obs = np.zeros((num_nodes, num_nodes)) # the observed angular differences matrix\n",
    "num_edges = 0\n",
    "for i in range(num_nodes):\n",
    "    for j in range(i+1, num_nodes):\n",
    "        patch_i = patch_indices[i]\n",
    "        patch_j = patch_indices[j]\n",
    "        common_nodes = list(set(patch_i).intersection(set(patch_j)))\n",
    "        if len(common_nodes) >= num_threshold: # threshold of performing a Procrustes alignment is num_threshold (initially 6) nodes in common\n",
    "            rot_mat_i = get_rotation_matrix(angles_gt[i]) # rotation matrix\n",
    "            rot_mat_j = get_rotation_matrix(angles_gt[j])\n",
    "            noisy_patch_i = data[patch_indices[i]].copy()\n",
    "            noisy_patch_i[:, 0] += added_noise_x[i]\n",
    "            noisy_patch_i[:, 1] += added_noise_y[i]\n",
    "            noisy_patch_j = data[patch_indices[j]].copy()\n",
    "            noisy_patch_j[:, 0] += added_noise_x[j]\n",
    "            noisy_patch_j[:, 1] += added_noise_y[j]\n",
    "            idx_i_sorted = np.argsort(patch_i)\n",
    "            common_nodes_pos = np.searchsorted(patch_i[idx_i_sorted], common_nodes)\n",
    "            indices_i = idx_i_sorted[common_nodes_pos]\n",
    "            idx_j_sorted = np.argsort(patch_j)\n",
    "            common_nodes_pos = np.searchsorted(patch_j[idx_j_sorted], common_nodes)\n",
    "            indices_j = idx_j_sorted[common_nodes_pos]\n",
    "            rotated_common_i = np.dot(get_rotation_matrix(angles_gt[i]), noisy_patch_i[indices_i].T).T\n",
    "            rotated_common_j = np.dot(get_rotation_matrix(angles_gt[j]), noisy_patch_j[indices_j].T).T\n",
    "            adj_obs[i, j] = get_rotation(rotated_common_j, rotated_common_i)\n",
    "            num_edges += 1\n",
    "print('Number of edges: {}, density: {}'.format(num_edges, num_edges/(num_nodes*(num_nodes-1)/2)))"
   ]
  },
  {
   "cell_type": "code",
   "execution_count": 136,
   "metadata": {},
   "outputs": [],
   "source": [
    "np.save('../real_data/us_patch_indices_k'+str(k_num)+'_thres'+str(num_threshold)+'_100eta'+str(int(100*eta))+'.npy', patch_indices)\n",
    "np.save('../real_data/us_added_noise_x_k'+str(k_num)+'_thres'+str(num_threshold)+'_100eta'+str(int(100*eta))+'.npy', added_noise_x)\n",
    "np.save('../real_data/us_added_noise_y_k'+str(k_num)+'_thres'+str(num_threshold)+'_100eta'+str(int(100*eta))+'.npy', added_noise_y)"
   ]
  },
  {
   "cell_type": "code",
   "execution_count": 9,
   "metadata": {},
   "outputs": [],
   "source": [
    "# to plot the data generation procedure\n",
    "eta = 0.05\n",
    "outlier_style = 'block_normal6'\n",
    "random_seed = 10\n",
    "patch_indices = np.load('../real_data/us_patch_indices_k50_thres6_100eta'+str(int(100*eta))+'.npy')\n",
    "added_noise_x = np.load('../real_data/us_added_noise_x_k50_thres6_100eta'+str(int(100*eta))+'.npy')\n",
    "added_noise_y = np.load('../real_data/us_added_noise_y_k50_thres6_100eta'+str(int(100*eta))+'.npy')\n",
    "angles_gt = np.load('../real_data/us_angles_gt_k50_thres6_100eta'+str(int(100*eta))+outlier_style+'seed'+str(random_seed)+'.npy')\n",
    "adj_obs = np.load('../real_data/us_adj_obs_k50_thres6_100eta'+str(int(100*eta))+outlier_style+'seed'+str(random_seed)+'.npy')\n",
    "angles_pred = np.load('../uscities_pred/GNNSync_k50_thres6_100eta'+str(int(100*eta))+outlier_style+'seed'+str(random_seed)+'.npy')"
   ]
  },
  {
   "cell_type": "code",
   "execution_count": 10,
   "metadata": {},
   "outputs": [
    {
     "data": {
      "image/png": "[encoded data removed]",
      "text/plain": [
       "<Figure size 432x288 with 1 Axes>"
      ]
     },
     "metadata": {
      "needs_background": "light"
     },
     "output_type": "display_data"
    }
   ],
   "source": [
    "plt.scatter(data[:, 0], data[:, 1], s=2, c='red')\n",
    "plt.savefig('../uscities_plots/us_data.png', format='png')\n",
    "plt.show()"
   ]
  },
  {
   "cell_type": "code",
   "execution_count": 11,
   "metadata": {},
   "outputs": [
    {
     "data": {
      "image/png": "[encoded data removed]",
      "text/plain": [
       "<Figure size 432x288 with 1 Axes>"
      ]
     },
     "metadata": {
      "needs_background": "light"
     },
     "output_type": "display_data"
    }
   ],
   "source": [
    "i = 0\n",
    "plt.scatter(data[:, 0], data[:, 1], s=2, c='red')\n",
    "plt.scatter(data[patch_indices[i], 0], data[patch_indices[i], 1], s=2, alpha=0.8, c='blue')\n",
    "plt.savefig('../uscities_plots/us_k50_thres6_noiseless_patch'+str(i)+'.png', format='png')\n",
    "plt.show()"
   ]
  },
  {
   "cell_type": "code",
   "execution_count": 16,
   "metadata": {},
   "outputs": [
    {
     "data": {
      "image/png": "[encoded data removed]",
      "text/plain": [
       "<Figure size 432x288 with 1 Axes>"
      ]
     },
     "metadata": {
      "needs_background": "light"
     },
     "output_type": "display_data"
    },
    {
     "data": {
      "image/png": "[encoded data removed]",
      "text/plain": [
       "<Figure size 432x288 with 1 Axes>"
      ]
     },
     "metadata": {
      "needs_background": "light"
     },
     "output_type": "display_data"
    }
   ],
   "source": [
    "plt.scatter(data[:, 0], data[:, 1], s=2, c='red')\n",
    "i = 0\n",
    "noisy_patch_i = data[patch_indices[i]].copy()\n",
    "noisy_patch_i[:, 0] += added_noise_x[i]\n",
    "noisy_patch_i[:, 1] += added_noise_y[i]\n",
    "rotated_coordinates = np.dot(get_rotation_matrix(angles_gt[i]), noisy_patch_i.T).T\n",
    "plt.scatter(noisy_patch_i[:, 0], noisy_patch_i[:, 1], s=2, alpha=0.8, c='blue')\n",
    "i = 2\n",
    "noisy_patch_i = data[patch_indices[i]].copy()\n",
    "noisy_patch_i[:, 0] += added_noise_x[i]\n",
    "noisy_patch_i[:, 1] += added_noise_y[i]\n",
    "rotated_coordinates = np.dot(get_rotation_matrix(angles_gt[i]), noisy_patch_i.T).T\n",
    "plt.scatter(noisy_patch_i[:, 0], noisy_patch_i[:, 1], s=2, alpha=0.8, c='yellow')\n",
    "plt.savefig('../uscities_plots/us_k50_thres6_100eta'+str(int(100*eta))+'patch0_1.png', format='png')\n",
    "plt.show()\n",
    "plt.scatter(data[:, 0], data[:, 1], s=2, c='red')\n",
    "plt.scatter(data[patch_indices[0], 0], data[patch_indices[0], 1], s=2, alpha=0.8, c='blue')\n",
    "plt.scatter(data[patch_indices[1], 0], data[patch_indices[1], 1], s=2, alpha=0.8, c='yellow')\n",
    "plt.savefig('../uscities_plots/us_k50_thres6_noiseless_patch0_1.png', format='png')\n",
    "plt.show()"
   ]
  },
  {
   "cell_type": "code",
   "execution_count": 17,
   "metadata": {},
   "outputs": [
    {
     "data": {
      "image/png": "[encoded data removed]",
      "text/plain": [
       "<Figure size 432x288 with 1 Axes>"
      ]
     },
     "metadata": {
      "needs_background": "light"
     },
     "output_type": "display_data"
    }
   ],
   "source": [
    "plt.scatter(data[:, 0], data[:, 1], s=2, c='red')\n",
    "i = 0\n",
    "j = 2\n",
    "patch_i = patch_indices[i]\n",
    "patch_j = patch_indices[j]\n",
    "common_nodes = list(set(patch_i).intersection(set(patch_j)))\n",
    "rot_mat_i = get_rotation_matrix(angles_gt[i]) # rotation matrix\n",
    "rot_mat_j = get_rotation_matrix(angles_gt[j])\n",
    "noisy_patch_i = data[patch_indices[i]].copy()\n",
    "noisy_patch_i[:, 0] += added_noise_x[i]\n",
    "noisy_patch_i[:, 1] += added_noise_y[i]\n",
    "noisy_patch_j = data[patch_indices[j]].copy()\n",
    "noisy_patch_j[:, 0] += added_noise_x[j]\n",
    "noisy_patch_j[:, 1] += added_noise_y[j]\n",
    "idx_i_sorted = np.argsort(patch_i)\n",
    "common_nodes_pos = np.searchsorted(patch_i[idx_i_sorted], common_nodes)\n",
    "indices_i = idx_i_sorted[common_nodes_pos]\n",
    "idx_j_sorted = np.argsort(patch_j)\n",
    "common_nodes_pos = np.searchsorted(patch_j[idx_j_sorted], common_nodes)\n",
    "indices_j = idx_j_sorted[common_nodes_pos]\n",
    "i = 0\n",
    "noisy_patch_i = data[patch_indices[i]].copy()\n",
    "noisy_patch_i[:, 0] += added_noise_x[i]\n",
    "noisy_patch_i[:, 1] += added_noise_y[i]\n",
    "rotated_coordinates = np.dot(get_rotation_matrix(angles_gt[i]), noisy_patch_i.T).T\n",
    "plt.scatter(rotated_coordinates[:, 0], rotated_coordinates[:, 1], s=2, alpha=0.8, c='blue')\n",
    "plt.scatter(rotated_coordinates[indices_i, 0], rotated_coordinates[indices_i, 1], s=2, alpha=0.8, c='green')\n",
    "i = 2\n",
    "noisy_patch_i = data[patch_indices[i]].copy()\n",
    "noisy_patch_i[:, 0] += added_noise_x[i]\n",
    "noisy_patch_i[:, 1] += added_noise_y[i]\n",
    "rotated_coordinates = np.dot(get_rotation_matrix(angles_gt[i]), noisy_patch_i.T).T\n",
    "plt.scatter(rotated_coordinates[:, 0], rotated_coordinates[:, 1], s=2, alpha=0.8, c='yellow')\n",
    "plt.scatter(rotated_coordinates[indices_j, 0], rotated_coordinates[indices_j, 1], s=2, alpha=0.8, c='green')\n",
    "plt.savefig('../uscities_plots/us_rorated_k50_thres6_100eta'+str(int(100*eta))+'patch0_1.png', format='png')\n",
    "plt.show()"
   ]
  },
  {
   "cell_type": "code",
   "execution_count": 18,
   "metadata": {},
   "outputs": [
    {
     "name": "stdout",
     "output_type": "stream",
     "text": [
      "3.8748791 [3.90218142]\n",
      "2.2581377 [2.25887579]\n"
     ]
    },
    {
     "data": {
      "image/png": "[encoded data removed]",
      "text/plain": [
       "<Figure size 432x288 with 1 Axes>"
      ]
     },
     "metadata": {
      "needs_background": "light"
     },
     "output_type": "display_data"
    }
   ],
   "source": [
    "plt.scatter(data[:, 0], data[:, 1], s=2, c='red')\n",
    "i = 0\n",
    "noisy_patch_i = data[patch_indices[i]].copy()\n",
    "noisy_patch_i[:, 0] += added_noise_x[i]\n",
    "noisy_patch_i[:, 1] += added_noise_y[i]\n",
    "rotated_coordinates = np.dot(get_rotation_matrix(angles_gt[i]), noisy_patch_i.T).T\n",
    "rotated_coordinates = np.dot(get_rotation_matrix(-angles_pred[i]), rotated_coordinates.T).T\n",
    "plt.scatter(rotated_coordinates[:, 0], rotated_coordinates[:, 1], s=2, c='blue')\n",
    "print(angles_pred[i], angles_gt[i])\n",
    "i = 2\n",
    "noisy_patch_i = data[patch_indices[i]].copy()\n",
    "noisy_patch_i[:, 0] += added_noise_x[i]\n",
    "noisy_patch_i[:, 1] += added_noise_y[i]\n",
    "rotated_coordinates = np.dot(get_rotation_matrix(angles_gt[i]), noisy_patch_i.T).T\n",
    "rotated_coordinates = np.dot(get_rotation_matrix(-angles_pred[i]), rotated_coordinates.T).T\n",
    "plt.scatter(rotated_coordinates[:, 0], rotated_coordinates[:, 1], s=2, c='yellow')\n",
    "print(angles_pred[i], angles_gt[i])\n",
    "plt.savefig('../uscities_plots/us_recovered_k50_thres6_100eta'+str(int(100*eta))+'patch0_1.png', format='png')\n",
    "plt.show()"
   ]
  },
  {
   "cell_type": "code",
   "execution_count": 20,
   "metadata": {},
   "outputs": [
    {
     "name": "stdout",
     "output_type": "stream",
     "text": [
      "222.0142198013756 129.38175993793698 92.63245986343863\n",
      "[223.57852608] [129.4240492] [94.15447688]\n",
      "88.42227336646796\n"
     ]
    }
   ],
   "source": [
    "print(angles_pred[0]/np.pi*180, angles_pred[2]/np.pi*180, (angles_pred[0]-angles_pred[2])/np.pi*180)\n",
    "print(angles_gt[0]/np.pi*180, angles_gt[2]/np.pi*180, (angles_gt[0]-angles_gt[2])/np.pi*180)\n",
    "print(adj_obs[0,2]/np.pi*180)"
   ]
  },
  {
   "cell_type": "code",
   "execution_count": 21,
   "metadata": {},
   "outputs": [
    {
     "name": "stdout",
     "output_type": "stream",
     "text": [
      "3.8748791 2.2581377 1.6167414\n",
      "[3.90218142] [2.25887579] [1.64330563]\n",
      "1.5432598023433566\n"
     ]
    }
   ],
   "source": [
    "print(angles_pred[0], angles_pred[2], (angles_pred[0]-angles_pred[2]))\n",
    "print(angles_gt[0], angles_gt[2], (angles_gt[0]-angles_gt[2]))\n",
    "print(adj_obs[0,2])"
   ]
  },
  {
   "cell_type": "code",
   "execution_count": 26,
   "metadata": {},
   "outputs": [
    {
     "name": "stdout",
     "output_type": "stream",
     "text": [
      "0.010270178089654962 0.004881495288928255\n"
     ]
    }
   ],
   "source": [
    "print(eta*data[:, 0].std(), eta*data[:, 1].std())"
   ]
  },
  {
   "cell_type": "code",
   "execution_count": null,
   "metadata": {},
   "outputs": [],
   "source": []
  }
 ],
 "metadata": {
  "kernelspec": {
   "display_name": "py37",
   "language": "python",
   "name": "python3"
  },
  "language_info": {
   "codemirror_mode": {
    "name": "ipython",
    "version": 3
   },
   "file_extension": ".py",
   "mimetype": "text/x-python",
   "name": "python",
   "nbconvert_exporter": "python",
   "pygments_lexer": "ipython3",
   "version": "3.7.11"
  },
  "orig_nbformat": 4
 },
 "nbformat": 4,
 "nbformat_minor": 2
}
