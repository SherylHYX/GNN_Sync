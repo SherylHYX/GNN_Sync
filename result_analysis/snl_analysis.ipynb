{
 "cells": [
  {
   "cell_type": "code",
   "execution_count": null,
   "id": "ce82d878",
   "metadata": {},
   "outputs": [],
   "source": [
    "import sys\n",
    "sys.path.append('../src/')\n",
    "\n",
    "import numpy as np\n",
    "from metric import print_overall_performance_mean_std"
   ]
  },
  {
   "cell_type": "code",
   "execution_count": null,
   "id": "d423853b",
   "metadata": {},
   "outputs": [],
   "source": [
    "baselines = ['spectral', 'row_norm_spectral', 'GPM', 'TranSync', 'CEMP_GCW', 'CEMP_MST', 'TAS', 'trivial']\n",
    "results_to_print = np.zeros((24, 10, len(baselines)+1))\n",
    "dataset_name_print = []\n",
    "dataset_ind = 0\n",
    "for eta in [0, 0.05, 0.1, 0.15, 0.2, 0.25]:\n",
    "    for outlier_ind, outlier_style in enumerate(['gamma', 'multi_normal0', 'multi_normal1', 'block_normal6']):\n",
    "        dataset_name_print.append('{}&{}'.format(eta, outlier_ind+1))\n",
    "        try:\n",
    "            results_to_print[dataset_ind, :, 0] = np.load('../result_arrays/uscities/100eta'+str(int(100*eta))+outlier_style+'/upset/GNNSync/dropout50upset_coe100cycle_coe0spectral_step_num5alpha100train_alphaFalsehid8lr5userow_norm_spectralSGDtrials2seeds2_9_11_20_40.npy')[0,:,2]\n",
    "        except FileNotFoundError:\n",
    "            results_to_print[dataset_ind, :, 0] = np.nan\n",
    "        for baseline_ind, baseline in enumerate(baselines):\n",
    "            try:\n",
    "                results_to_print[dataset_ind, :, baseline_ind+1] = np.load('../result_arrays/uscities/100eta'+str(int(100*eta))+outlier_style+'/upset/'+baseline+'/trials2seeds2_9_11_20_40.npy')[0, :,2]\n",
    "            except FileNotFoundError:\n",
    "                results_to_print[dataset_ind, :, baseline_ind+1] = np.nan\n",
    "        dataset_ind += 1\n",
    "print_overall_performance_mean_std('ANE', (results_to_print.swapaxes(0, 1)).swapaxes(1, 2),\n",
    "                                    ['GNNSync']+baselines, dataset_name_print, True)\n",
    "# MSE\n",
    "results_to_print = np.zeros((24, 10, len(baselines)+1))\n",
    "dataset_name_print = []\n",
    "dataset_ind = 0\n",
    "for eta in [0, 0.05, 0.1, 0.15, 0.2, 0.25]:\n",
    "    for outlier_ind, outlier_style in enumerate(['gamma', 'multi_normal0', 'multi_normal1', 'block_normal6']):\n",
    "        dataset_name_print.append('{}&{}'.format(eta, outlier_ind+1))\n",
    "        try:\n",
    "            results_to_print[dataset_ind, :, 0] = np.load('../result_arrays/uscities/100eta'+str(int(100*eta))+outlier_style+'/MSE/GNNSync/dropout50upset_coe100cycle_coe0spectral_step_num5alpha100train_alphaFalsehid8lr5userow_norm_spectralSGDtrials2seeds2_9_11_20_40.npy')[0,:,2, 0]\n",
    "        except FileNotFoundError:\n",
    "            results_to_print[dataset_ind, :, 0] = np.nan\n",
    "        for baseline_ind, baseline in enumerate(baselines):\n",
    "            try:\n",
    "                results_to_print[dataset_ind, :, baseline_ind+1] = np.load('../result_arrays/uscities/100eta'+str(int(100*eta))+outlier_style+'/MSE/'+baseline+'/trials2seeds2_9_11_20_40.npy')[0, :,2, 0]\n",
    "            except FileNotFoundError:\n",
    "                results_to_print[dataset_ind, :, baseline_ind+1] = np.nan\n",
    "        dataset_ind += 1\n",
    "print_overall_performance_mean_std('MSE', (results_to_print.swapaxes(0, 1)).swapaxes(1, 2),\n",
    "                                    ['GNNSync']+baselines, dataset_name_print, True)"
   ]
  },
  {
   "cell_type": "code",
   "execution_count": null,
   "id": "288c5b27",
   "metadata": {},
   "outputs": [],
   "source": [
    "baselines = ['spectral', 'row_norm_spectral', 'GPM', 'TranSync', 'CEMP_GCW', 'CEMP_MST', 'TAS', 'trivial']\n",
    "results_to_print = np.zeros((24, 10, len(baselines)+1))\n",
    "dataset_name_print = []\n",
    "dataset_ind = 0\n",
    "for eta in [0, 0.05, 0.1, 0.15, 0.2, 0.25]:\n",
    "    for outlier_ind, outlier_style in enumerate(['gamma', 'multi_normal0', 'multi_normal1', 'block_normal6']):\n",
    "        dataset_name_print.append('{}&{}'.format(eta, outlier_ind+1))\n",
    "        try:\n",
    "            results_to_print[dataset_ind, :, 0] = np.load('../result_arrays/pacm/100eta'+str(int(100*eta))+outlier_style+'/upset/GNNSync/dropout50upset_coe100cycle_coe0spectral_step_num5alpha100train_alphaFalsehid8lr5userow_norm_spectralSGDtrials2seeds2_9_11_20_40.npy')[0,:,2]\n",
    "        except FileNotFoundError:\n",
    "            results_to_print[dataset_ind, :, 0] = np.nan\n",
    "        for baseline_ind, baseline in enumerate(baselines):\n",
    "            try:\n",
    "                results_to_print[dataset_ind, :, baseline_ind+1] = np.load('../result_arrays/pacm/100eta'+str(int(100*eta))+outlier_style+'/upset/'+baseline+'/trials2seeds2_9_11_20_40.npy')[0, :,2]\n",
    "            except FileNotFoundError:\n",
    "                results_to_print[dataset_ind, :, baseline_ind+1] = np.nan\n",
    "        dataset_ind += 1\n",
    "print_overall_performance_mean_std('ANE', (results_to_print.swapaxes(0, 1)).swapaxes(1, 2),\n",
    "                                    ['GNNSync']+baselines, dataset_name_print, True)\n",
    "# MSE\n",
    "results_to_print = np.zeros((24, 10, len(baselines)+1))\n",
    "dataset_name_print = []\n",
    "dataset_ind = 0\n",
    "for eta in [0, 0.05, 0.1, 0.15, 0.2, 0.25]:\n",
    "    for outlier_ind, outlier_style in enumerate(['gamma', 'multi_normal0', 'multi_normal1', 'block_normal6']):\n",
    "        dataset_name_print.append('{}&{}'.format(eta, outlier_ind+1))\n",
    "        try:\n",
    "            results_to_print[dataset_ind, :, 0] = np.load('../result_arrays/pacm/100eta'+str(int(100*eta))+outlier_style+'/MSE/GNNSync/dropout50upset_coe100cycle_coe0spectral_step_num5alpha100train_alphaFalsehid8lr5userow_norm_spectralSGDtrials2seeds2_9_11_20_40.npy')[0,:,2, 0]\n",
    "        except FileNotFoundError:\n",
    "            results_to_print[dataset_ind, :, 0] = np.nan\n",
    "        for baseline_ind, baseline in enumerate(baselines):\n",
    "            try:\n",
    "                results_to_print[dataset_ind, :, baseline_ind+1] = np.load('../result_arrays/pacm/100eta'+str(int(100*eta))+outlier_style+'/MSE/'+baseline+'/trials2seeds2_9_11_20_40.npy')[0, :,2, 0]\n",
    "            except FileNotFoundError:\n",
    "                results_to_print[dataset_ind, :, baseline_ind+1] = np.nan\n",
    "        dataset_ind += 1\n",
    "print_overall_performance_mean_std('MSE', (results_to_print.swapaxes(0, 1)).swapaxes(1, 2),\n",
    "                                    ['GNNSync']+baselines, dataset_name_print, True)"
   ]
  }
 ],
 "metadata": {
  "kernelspec": {
   "display_name": "dgl",
   "language": "python",
   "name": "python3"
  },
  "language_info": {
   "codemirror_mode": {
    "name": "ipython",
    "version": 3
   },
   "file_extension": ".py",
   "mimetype": "text/x-python",
   "name": "python",
   "nbconvert_exporter": "python",
   "pygments_lexer": "ipython3",
   "version": "3.7.11"
  },
  "vscode": {
   "interpreter": {
    "hash": "3fea18b2a1a69a86b3315cc7cd2a706ccbb2eae9ae7d74e28b20efaca82a4aac"
   }
  }
 },
 "nbformat": 4,
 "nbformat_minor": 5
}
